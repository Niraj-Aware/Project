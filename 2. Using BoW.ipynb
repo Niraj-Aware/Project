{
  "metadata": {
    "kernelspec": {
      "name": "python",
      "display_name": "Python (Pyodide)",
      "language": "python"
    },
    "language_info": {
      "codemirror_mode": {
        "name": "python",
        "version": 3
      },
      "file_extension": ".py",
      "mimetype": "text/x-python",
      "name": "python",
      "nbconvert_exporter": "python",
      "pygments_lexer": "ipython3",
      "version": "3.8"
    }
  },
  "nbformat_minor": 5,
  "nbformat": 4,
  "cells": [
    {
      "cell_type": "code",
      "source": "import numpy as np\nimport pandas as pd\nimport matplotlib.pyplot as plt\nimport seaborn as sns",
      "metadata": {},
      "execution_count": 1,
      "outputs": [],
      "id": "b478deb3"
    },
    {
      "cell_type": "code",
      "source": "df = pd.read_csv('train.csv')",
      "metadata": {},
      "execution_count": 2,
      "outputs": [],
      "id": "217d407d"
    },
    {
      "cell_type": "code",
      "source": "df.shape",
      "metadata": {},
      "execution_count": 3,
      "outputs": [
        {
          "execution_count": 3,
          "output_type": "execute_result",
          "data": {
            "text/plain": [
              "(404290, 6)"
            ]
          },
          "metadata": {}
        }
      ],
      "id": "0cb99da3"
    },
    {
      "cell_type": "code",
      "source": "df.head()",
      "metadata": {},
      "execution_count": 4,
      "outputs": [
        {
          "execution_count": 4,
          "output_type": "execute_result",
          "data": {
            "text/html": [
              "<div>\n",
              "<style scoped>\n",
              "    .dataframe tbody tr th:only-of-type {\n",
              "        vertical-align: middle;\n",
              "    }\n",
              "\n",
              "    .dataframe tbody tr th {\n",
              "        vertical-align: top;\n",
              "    }\n",
              "\n",
              "    .dataframe thead th {\n",
              "        text-align: right;\n",
              "    }\n",
              "</style>\n",
              "<table border=\"1\" class=\"dataframe\">\n",
              "  <thead>\n",
              "    <tr style=\"text-align: right;\">\n",
              "      <th></th>\n",
              "      <th>id</th>\n",
              "      <th>qid1</th>\n",
              "      <th>qid2</th>\n",
              "      <th>question1</th>\n",
              "      <th>question2</th>\n",
              "      <th>is_duplicate</th>\n",
              "    </tr>\n",
              "  </thead>\n",
              "  <tbody>\n",
              "    <tr>\n",
              "      <th>0</th>\n",
              "      <td>0</td>\n",
              "      <td>1</td>\n",
              "      <td>2</td>\n",
              "      <td>What is the step by step guide to invest in sh...</td>\n",
              "      <td>What is the step by step guide to invest in sh...</td>\n",
              "      <td>0</td>\n",
              "    </tr>\n",
              "    <tr>\n",
              "      <th>1</th>\n",
              "      <td>1</td>\n",
              "      <td>3</td>\n",
              "      <td>4</td>\n",
              "      <td>What is the story of Kohinoor (Koh-i-Noor) Dia...</td>\n",
              "      <td>What would happen if the Indian government sto...</td>\n",
              "      <td>0</td>\n",
              "    </tr>\n",
              "    <tr>\n",
              "      <th>2</th>\n",
              "      <td>2</td>\n",
              "      <td>5</td>\n",
              "      <td>6</td>\n",
              "      <td>How can I increase the speed of my internet co...</td>\n",
              "      <td>How can Internet speed be increased by hacking...</td>\n",
              "      <td>0</td>\n",
              "    </tr>\n",
              "    <tr>\n",
              "      <th>3</th>\n",
              "      <td>3</td>\n",
              "      <td>7</td>\n",
              "      <td>8</td>\n",
              "      <td>Why am I mentally very lonely? How can I solve...</td>\n",
              "      <td>Find the remainder when [math]23^{24}[/math] i...</td>\n",
              "      <td>0</td>\n",
              "    </tr>\n",
              "    <tr>\n",
              "      <th>4</th>\n",
              "      <td>4</td>\n",
              "      <td>9</td>\n",
              "      <td>10</td>\n",
              "      <td>Which one dissolve in water quikly sugar, salt...</td>\n",
              "      <td>Which fish would survive in salt water?</td>\n",
              "      <td>0</td>\n",
              "    </tr>\n",
              "  </tbody>\n",
              "</table>\n",
              "</div>"
            ],
            "text/plain": [
              "   id  qid1  qid2                                          question1  \\\n",
              "0   0     1     2  What is the step by step guide to invest in sh...   \n",
              "1   1     3     4  What is the story of Kohinoor (Koh-i-Noor) Dia...   \n",
              "2   2     5     6  How can I increase the speed of my internet co...   \n",
              "3   3     7     8  Why am I mentally very lonely? How can I solve...   \n",
              "4   4     9    10  Which one dissolve in water quikly sugar, salt...   \n",
              "\n",
              "                                           question2  is_duplicate  \n",
              "0  What is the step by step guide to invest in sh...             0  \n",
              "1  What would happen if the Indian government sto...             0  \n",
              "2  How can Internet speed be increased by hacking...             0  \n",
              "3  Find the remainder when [math]23^{24}[/math] i...             0  \n",
              "4            Which fish would survive in salt water?             0  "
            ]
          },
          "metadata": {}
        }
      ],
      "id": "e5e7ce9a"
    },
    {
      "cell_type": "code",
      "source": "new_df = df.sample(30000)",
      "metadata": {},
      "execution_count": 5,
      "outputs": [],
      "id": "94b6e88e"
    },
    {
      "cell_type": "code",
      "source": "new_df.isnull().sum()",
      "metadata": {},
      "execution_count": null,
      "outputs": [],
      "id": "4fbc8637-8430-4d02-bbc0-ce3a452067fd"
    },
    {
      "cell_type": "code",
      "source": "new_df.duplicated().sum()",
      "metadata": {},
      "execution_count": 7,
      "outputs": [
        {
          "execution_count": 7,
          "output_type": "execute_result",
          "data": {
            "text/plain": [
              "0"
            ]
          },
          "metadata": {}
        }
      ],
      "id": "e2763e28"
    },
    {
      "cell_type": "code",
      "source": "ques_df = new_df[['question1','question2']]\nques_df.head()",
      "metadata": {},
      "execution_count": 8,
      "outputs": [
        {
          "execution_count": 8,
          "output_type": "execute_result",
          "data": {
            "text/html": [
              "<div>\n",
              "<style scoped>\n",
              "    .dataframe tbody tr th:only-of-type {\n",
              "        vertical-align: middle;\n",
              "    }\n",
              "\n",
              "    .dataframe tbody tr th {\n",
              "        vertical-align: top;\n",
              "    }\n",
              "\n",
              "    .dataframe thead th {\n",
              "        text-align: right;\n",
              "    }\n",
              "</style>\n",
              "<table border=\"1\" class=\"dataframe\">\n",
              "  <thead>\n",
              "    <tr style=\"text-align: right;\">\n",
              "      <th></th>\n",
              "      <th>question1</th>\n",
              "      <th>question2</th>\n",
              "    </tr>\n",
              "  </thead>\n",
              "  <tbody>\n",
              "    <tr>\n",
              "      <th>394861</th>\n",
              "      <td>What is Mark Zuckerberg's degree?</td>\n",
              "      <td>Is there any reservation for NT in upsc?</td>\n",
              "    </tr>\n",
              "    <tr>\n",
              "      <th>266389</th>\n",
              "      <td>Why is Saltwater Taffy candy imported in Poland?</td>\n",
              "      <td>Why is Saltwater Taffy candy imported in Portu...</td>\n",
              "    </tr>\n",
              "    <tr>\n",
              "      <th>32076</th>\n",
              "      <td>Who are the best people on the Internet to fol...</td>\n",
              "      <td>Who are the best people on the Internet to fol...</td>\n",
              "    </tr>\n",
              "    <tr>\n",
              "      <th>150593</th>\n",
              "      <td>I have been with my partner for 8 years Last y...</td>\n",
              "      <td>I split up with my wife two years ago. Officia...</td>\n",
              "    </tr>\n",
              "    <tr>\n",
              "      <th>128073</th>\n",
              "      <td>Is it legal to earn income from online freelan...</td>\n",
              "      <td>Can 4-5 employers file a petition for your H1-...</td>\n",
              "    </tr>\n",
              "  </tbody>\n",
              "</table>\n",
              "</div>"
            ],
            "text/plain": [
              "                                                question1  \\\n",
              "394861                  What is Mark Zuckerberg's degree?   \n",
              "266389   Why is Saltwater Taffy candy imported in Poland?   \n",
              "32076   Who are the best people on the Internet to fol...   \n",
              "150593  I have been with my partner for 8 years Last y...   \n",
              "128073  Is it legal to earn income from online freelan...   \n",
              "\n",
              "                                                question2  \n",
              "394861           Is there any reservation for NT in upsc?  \n",
              "266389  Why is Saltwater Taffy candy imported in Portu...  \n",
              "32076   Who are the best people on the Internet to fol...  \n",
              "150593  I split up with my wife two years ago. Officia...  \n",
              "128073  Can 4-5 employers file a petition for your H1-...  "
            ]
          },
          "metadata": {}
        }
      ],
      "id": "a1e18aeb"
    },
    {
      "cell_type": "code",
      "source": "from sklearn.feature_extraction.text import CountVectorizer\n# merge texts\nquestions = list(ques_df['question1']) + list(ques_df['question2'])\n\ncv = CountVectorizer(max_features=3000)\nq1_arr, q2_arr = np.vsplit(cv.fit_transform(questions).toarray(),2)",
      "metadata": {},
      "execution_count": 9,
      "outputs": [],
      "id": "dec56417"
    },
    {
      "cell_type": "code",
      "source": "temp_df1 = pd.DataFrame(q1_arr, index= ques_df.index)\ntemp_df2 = pd.DataFrame(q2_arr, index= ques_df.index)\ntemp_df = pd.concat([temp_df1, temp_df2], axis=1)\ntemp_df.shape",
      "metadata": {},
      "execution_count": 10,
      "outputs": [
        {
          "execution_count": 10,
          "output_type": "execute_result",
          "data": {
            "text/plain": [
              "(30000, 6000)"
            ]
          },
          "metadata": {}
        }
      ],
      "id": "88026075"
    },
    {
      "cell_type": "code",
      "source": "temp_df['is_duplicate'] = new_df['is_duplicate']",
      "metadata": {},
      "execution_count": 11,
      "outputs": [],
      "id": "b634b449"
    },
    {
      "cell_type": "code",
      "source": "from sklearn.model_selection import train_test_split\nX_train,X_test,y_train,y_test = train_test_split(temp_df.iloc[:,0:-1].values,temp_df.iloc[:,-1].values,test_size=0.2,random_state=1)",
      "metadata": {},
      "execution_count": 13,
      "outputs": [],
      "id": "7dec87f7"
    },
    {
      "cell_type": "code",
      "source": "from sklearn.ensemble import RandomForestClassifier\nfrom sklearn.metrics import accuracy_score\nrf = RandomForestClassifier()\nrf.fit(X_train,y_train)\ny_pred = rf.predict(X_test)\naccuracy_score(y_test,y_pred)",
      "metadata": {},
      "execution_count": 14,
      "outputs": [
        {
          "execution_count": 14,
          "output_type": "execute_result",
          "data": {
            "text/plain": [
              "0.742"
            ]
          },
          "metadata": {}
        }
      ],
      "id": "92d4785f"
    }
  ]
}
