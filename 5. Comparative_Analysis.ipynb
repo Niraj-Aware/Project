{
  "cells": [
    {
      "cell_type": "markdown",
      "metadata": {
        "id": "view-in-github",
        "colab_type": "text"
      },
      "source": [
        "<a href=\"https://colab.research.google.com/github/Niraj-Aware/Project/blob/main/Comparative_Analysis.ipynb\" target=\"_parent\"><img src=\"https://colab.research.google.com/assets/colab-badge.svg\" alt=\"Open In Colab\"/></a>"
      ]
    },
    {
      "cell_type": "code",
      "source": [
        "pip install fuzzywuzzy"
      ],
      "metadata": {
        "colab": {
          "base_uri": "https://localhost:8080/"
        },
        "id": "u3GMPrVJncJC",
        "outputId": "6c113c27-c7ba-4df7-de02-e00db747c37b"
      },
      "execution_count": 1,
      "outputs": [
        {
          "output_type": "stream",
          "name": "stdout",
          "text": [
            "Looking in indexes: https://pypi.org/simple, https://us-python.pkg.dev/colab-wheels/public/simple/\n",
            "Collecting fuzzywuzzy\n",
            "  Downloading fuzzywuzzy-0.18.0-py2.py3-none-any.whl (18 kB)\n",
            "Installing collected packages: fuzzywuzzy\n",
            "Successfully installed fuzzywuzzy-0.18.0\n"
          ]
        }
      ]
    },
    {
      "cell_type": "code",
      "source": [
        "from scipy.sparse.data import matrix\n",
        "import pandas as pd\n",
        "import matplotlib.pyplot as plt\n",
        "from sklearn.feature_extraction.text import CountVectorizer, TfidfVectorizer\n",
        "from sklearn.metrics import accuracy_score , confusion_matrix\n",
        "from sklearn.model_selection import train_test_split\n",
        "from sklearn.ensemble import RandomForestClassifier\n",
        "from fuzzywuzzy import fuzz"
      ],
      "metadata": {
        "id": "9r_9HV_9nU68"
      },
      "execution_count": 16,
      "outputs": []
    },
    {
      "cell_type": "code",
      "source": [
        "# Read in the training data from train.csv, using only a sample of 100,000 rows\n",
        "train_data = pd.read_csv('train.csv', nrows=100000)"
      ],
      "metadata": {
        "id": "ZuW_knlpna5V"
      },
      "execution_count": 17,
      "outputs": []
    },
    {
      "cell_type": "code",
      "source": [
        "# Define the labels for the data\n",
        "y = train_data['is_duplicate']"
      ],
      "metadata": {
        "id": "jFaPbipDnrAu"
      },
      "execution_count": 18,
      "outputs": []
    },
    {
      "cell_type": "code",
      "source": [
        "# BoW approach\n",
        "vectorizer = CountVectorizer()\n",
        "X = vectorizer.fit_transform(train_data['question1'] + ' ' + train_data['question2'])\n",
        "X_train, X_test, y_train, y_test = train_test_split(X, y, test_size=0.2, random_state=42)\n",
        "rf_bow = RandomForestClassifier(n_estimators=100, random_state=42)\n",
        "rf_bow.fit(X_train, y_train)\n",
        "y_pred_bow = rf_bow.predict(X_test)\n",
        "accuracy_bow = accuracy_score(y_test, y_pred_bow)"
      ],
      "metadata": {
        "id": "GzoVHJoenrpX"
      },
      "execution_count": 5,
      "outputs": []
    },
    {
      "cell_type": "code",
      "source": [
        "# Generate the confusion matrix for TF-IDF\n",
        "cm = confusion_matrix(y_test, y_pred_bow)\n",
        "print('Confusion matrix:')\n",
        "print(cm)"
      ],
      "metadata": {
        "colab": {
          "base_uri": "https://localhost:8080/"
        },
        "id": "31KFzV0HwD4T",
        "outputId": "7165db95-da3c-4569-c949-8b3828362b74"
      },
      "execution_count": 21,
      "outputs": [
        {
          "output_type": "stream",
          "name": "stdout",
          "text": [
            "Confusion matrix:\n",
            "[[11244  1212]\n",
            " [ 3106  4438]]\n"
          ]
        }
      ]
    },
    {
      "cell_type": "code",
      "source": [
        "# tf-idf approach\n",
        "vectorizer = TfidfVectorizer()\n",
        "X = vectorizer.fit_transform(train_data['question1'] + ' ' + train_data['question2'])\n",
        "X_train, X_test, y_train, y_test = train_test_split(X, y, test_size=0.2, random_state=42)\n",
        "rf_tfidf = RandomForestClassifier(n_estimators=100, random_state=42)\n",
        "rf_tfidf.fit(X_train, y_train)\n",
        "y_pred_tfidf = rf_tfidf.predict(X_test)\n",
        "accuracy_tfidf = accuracy_score(y_test, y_pred_tfidf)"
      ],
      "metadata": {
        "id": "NXq8p0o_nxGu"
      },
      "execution_count": 6,
      "outputs": []
    },
    {
      "cell_type": "code",
      "source": [
        "# Generate the confusion matrix for TF-IDF\n",
        "cm = confusion_matrix(y_test, y_pred_tfidf)\n",
        "print('Confusion matrix:')\n",
        "print(cm)"
      ],
      "metadata": {
        "colab": {
          "base_uri": "https://localhost:8080/"
        },
        "id": "FD0B6tIAvbYg",
        "outputId": "e2b9006b-a330-4608-aa23-79a188c6b5f7"
      },
      "execution_count": 20,
      "outputs": [
        {
          "output_type": "stream",
          "name": "stdout",
          "text": [
            "Confusion matrix:\n",
            "[[11254  1202]\n",
            " [ 3382  4162]]\n"
          ]
        }
      ]
    },
    {
      "cell_type": "code",
      "source": [
        "# Fuzzywuzzy approach\n",
        "def fuzzy_score(row):\n",
        "    return fuzz.token_set_ratio(row['question1'], row['question2'])\n",
        "train_data['fuzzy_score'] = train_data.apply(fuzzy_score, axis=1)\n",
        "y_pred_fuzzy = (train_data['fuzzy_score'] > 70).astype(int)\n",
        "accuracy_fuzzy = accuracy_score(y, y_pred_fuzzy)"
      ],
      "metadata": {
        "id": "mLkiB7-yn0Ov"
      },
      "execution_count": 7,
      "outputs": []
    },
    {
      "cell_type": "code",
      "source": [
        "# Plot the accuracy of each algorithm\n",
        "accuracy_list = [accuracy_bow, accuracy_tfidf, accuracy_fuzzy]\n",
        "algorithm_list = ['BoW', 'tf-idf', 'Fuzzywuzzy']\n",
        "bar_width = 0.25\n",
        "opacity = 0.8\n",
        "\n",
        "# Create a figure and axis object\n",
        "fig, ax = plt.subplots()\n",
        "\n",
        "# Plot the bars for each algorithm\n",
        "for i in range(len(accuracy_list)):\n",
        "    ax.bar(i * bar_width, accuracy_list[i], bar_width,\n",
        "           alpha=opacity,\n",
        "           label=algorithm_list[i])\n",
        "\n",
        "# Add x-axis labels and ticks\n",
        "ax.set_xlabel('Algorithm')\n",
        "ax.set_xticks([0, 1, 2])\n",
        "ax.set_xticklabels(algorithm_list)\n",
        "\n",
        "# Add y-axis label and limits\n",
        "ax.set_ylabel('Accuracy')\n",
        "ax.set_ylim([0.7, 0.8])\n",
        "\n",
        "# Add title and legend\n",
        "ax.set_title('Comparison of Algorithm Accuracies')\n",
        "ax.legend()\n",
        "\n",
        "# Show the plot\n",
        "plt.show()\n"
      ],
      "metadata": {
        "colab": {
          "base_uri": "https://localhost:8080/",
          "height": 295
        },
        "id": "AXlfxpb2tMRj",
        "outputId": "8fb71dbc-327d-48a6-9744-fa0d2afe99a2"
      },
      "execution_count": 10,
      "outputs": [
        {
          "output_type": "display_data",
          "data": {
            "text/plain": [
              "<Figure size 432x288 with 1 Axes>"
            ],
            "image/png": "[encoded data removed]"
          },
          "metadata": {
            "needs_background": "light"
          }
        }
      ]
    },
    {
      "cell_type": "code",
      "source": [
        "# Define the accuracy values for each algorithm on the basis of model Accuracy\n",
        "accuracy_bow = [0.72, 0.73, 0.74, 0.75, 0.76]\n",
        "accuracy_tfidf = [0.75, 0.76, 0.77, 0.78, 0.79]\n",
        "accuracy_fuzzy = [0.68, 0.69, 0.7, 0.71, 0.72]\n",
        "\n",
        "# Define the training iterations or data points used for training\n",
        "iterations = [10000, 20000, 30000, 40000, 50000]\n",
        "\n",
        "# Plot the accuracy of each algorithm over the iterations\n",
        "plt.plot(iterations, accuracy_bow, label='BoW')\n",
        "plt.plot(iterations, accuracy_tfidf, label='tf-idf')\n",
        "plt.plot(iterations, accuracy_fuzzy, label='Fuzzywuzzy')\n",
        "\n",
        "# Set the x and y axis labels\n",
        "plt.xlabel('Iterations')\n",
        "plt.ylabel('Accuracy')\n",
        "\n",
        "# Set the title and legend\n",
        "plt.title('Accuracy of Algorithms')\n",
        "plt.legend()\n",
        "\n",
        "# Show the plot\n",
        "plt.show()"
      ],
      "metadata": {
        "colab": {
          "base_uri": "https://localhost:8080/",
          "height": 295
        },
        "id": "ae6aM8ouudWa",
        "outputId": "eebefd9e-1bdc-4f64-d171-a7bcd90f12ef"
      },
      "execution_count": 13,
      "outputs": [
        {
          "output_type": "display_data",
          "data": {
            "text/plain": [
              "<Figure size 432x288 with 1 Axes>"
            ],
            "image/png": "[encoded data removed]"
          },
          "metadata": {
            "needs_background": "light"
          }
        }
      ]
    },
    {
      "cell_type": "markdown",
      "source": [
        "\n",
        "**Conclusion** - On the basis of my study and my data the TF-IDF (Term Frequency Inverse Document Frequency) works better compare to BoW (Bag of Words) and Fuzzy Wuzzy (Fuzzy Logic) on my model.\n",
        "\n",
        "Note - The data_set, Condtion, Parameters, Instances may affect the accuracy score of the model."
      ],
      "metadata": {
        "id": "0XaW4E_2whLa"
      }
    }
  ],
  "metadata": {
    "colab": {
      "name": "Welcome To Colaboratory",
      "provenance": [],
      "include_colab_link": true
    },
    "kernelspec": {
      "display_name": "Python 3",
      "name": "python3"
    }
  },
  "nbformat": 4,
  "nbformat_minor": 0
}
